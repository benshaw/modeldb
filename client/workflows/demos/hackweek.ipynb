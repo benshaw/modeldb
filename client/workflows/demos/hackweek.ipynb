{
 "cells": [
  {
   "cell_type": "markdown",
   "id": "6083ea0f",
   "metadata": {},
   "source": [
    "<br><br><br><br><br><br>\n",
    "<br><br><br><br><br><br>\n",
    "<br><br><br><br><br><br>\n",
    "$$\n",
    "\\Huge{\\text{Verta Hackweek 2021}}\n",
    "$$\n",
    "<br><br><br><br><br><br>\n",
    "<br><br><br><br><br><br>\n",
    "<br><br><br><br><br><br>"
   ]
  },
  {
   "cell_type": "markdown",
   "id": "6cb81122",
   "metadata": {},
   "source": [
    "$$\n",
    "\\Huge{\\text{Act I: Youth, Hubris}}\n",
    "$$\n",
    "<br>\n",
    "$$\n",
    "\\color{gray}{\n",
    "    \\bigg\\vert\\large{\\text{ What innumerable follies laid waste my waking and sleeping thoughts . . .}}\\\\\n",
    "    \\text{— Unnamed Protagonist (James Joyce | }\\textit{Dubliners}\\text{)}\n",
    "}\n",
    "$$\n",
    "<br><br><br><br><br><br>\n",
    "<br><br><br><br><br><br>\n",
    "<br><br><br><br><br><br>"
   ]
  },
  {
   "cell_type": "markdown",
   "id": "d9020b50",
   "metadata": {},
   "source": [
    "![](./hackweek/blue-hair.jpg)\n",
    "<br><br><br><br><br><br>\n",
    "<br><br><br><br><br><br>\n",
    "<br><br><br><br><br><br>"
   ]
  },
  {
   "cell_type": "markdown",
   "id": "b6f0c030",
   "metadata": {},
   "source": [
    "![](./hackweek/hot-wings.jpg)\n",
    "<br><br><br><br><br><br>\n",
    "<br><br><br><br><br><br>\n",
    "<br><br><br><br><br><br>"
   ]
  },
  {
   "cell_type": "markdown",
   "id": "05199c06",
   "metadata": {},
   "source": [
    "![](./hackweek/blue-hair.jpg)\n",
    "<br><br><br><br><br><br>\n",
    "<br><br><br><br><br><br>\n",
    "<br><br><br><br><br><br>"
   ]
  },
  {
   "cell_type": "markdown",
   "id": "2c458c4b",
   "metadata": {},
   "source": [
    "<br><br><br><br><br><br>\n",
    "<br><br><br><br><br><br>\n",
    "<br><br><br><br><br><br>"
   ]
  },
  {
   "cell_type": "markdown",
   "id": "e22b134a",
   "metadata": {},
   "source": [
    "![](./hackweek/slack.png)\n",
    "<br><br><br><br><br><br>\n",
    "<br><br><br><br><br><br>\n",
    "<br><br><br><br><br><br>"
   ]
  },
  {
   "cell_type": "markdown",
   "id": "f5a28528",
   "metadata": {},
   "source": [
    "$$\n",
    "\\Huge{\\text{Act II: Ground, Control}}\n",
    "$$\n",
    "<br>\n",
    "$$\n",
    "\\color{gray}{\n",
    "    \\bigg\\vert\\large{\\text{ We may accept this fate, or defy it, but we cannot deny it.}}\\\\\n",
    "    \\text{— Urianger Augurelt (Square Enix | }\\textit{Final Fantasy XIV}\\text{)}\n",
    "}\n",
    "$$\n",
    "<br><br><br><br><br><br>\n",
    "<br><br><br><br><br><br>\n",
    "<br><br><br><br><br><br>"
   ]
  },
  {
   "cell_type": "markdown",
   "id": "435734d4",
   "metadata": {},
   "source": [
    "$$\n",
    "\\Large{\\text{Our users are not perfect.}}\\\\\n",
    "\\large{\\text{And neither are we.}}\\\\\n",
    "$$\n",
    "<br><br><br><br><br><br>\n",
    "<br><br><br>\n",
    "$\n",
    "\\text{Information on this screen is strictly confidential. }\\\\\n",
    "\\color{red}{\\textbf{DO NOT LEAK }}\n",
    "\\textbf{to customers and competitors.}\n",
    "$\n",
    "<br><br><br><br><br><br>\n",
    "<br><br><br><br><br><br>\n",
    "<br><br><br><br><br><br>"
   ]
  },
  {
   "cell_type": "code",
   "execution_count": 1,
   "id": "ad477b6f",
   "metadata": {},
   "outputs": [],
   "source": [
    "from verta import Client\n",
    "\n",
    "client = Client()\n",
    "run = client.create_experiment_run()\n",
    "run.log_artifact(\"data\", \"data/files/csv/latest/data.csv\")"
   ]
  },
  {
   "cell_type": "markdown",
   "id": "d3d3dd99",
   "metadata": {},
   "source": [
    "<br><br><br><br><br><br>\n",
    "<br><br><br><br><br><br>\n",
    "<br><br><br><br><br><br>"
   ]
  },
  {
   "cell_type": "code",
   "execution_count": 2,
   "id": "9bf1ad28",
   "metadata": {},
   "outputs": [],
   "source": [
    "client.set_experiment(\"wrong experiment\")\n",
    "run = client.create_experiment_run()\n",
    "run.log_artifact(\"this\", foo)\n",
    "run.log_artifact(\"that\", bar)"
   ]
  },
  {
   "cell_type": "markdown",
   "id": "8c8e16a1",
   "metadata": {},
   "source": [
    "<br><br><br><br><br><br>\n",
    "<br><br><br><br><br><br>\n",
    "<br><br><br><br><br><br>"
   ]
  },
  {
   "attachments": {},
   "cell_type": "markdown",
   "id": "470b1c5d",
   "metadata": {},
   "source": [
    "![](./hackweek/what-if.png)\n",
    "<br><br><br><br><br><br>\n",
    "<br><br><br><br><br><br>\n",
    "<br><br><br><br><br><br>"
   ]
  },
  {
   "cell_type": "code",
   "execution_count": 3,
   "id": "420ef86b",
   "metadata": {},
   "outputs": [],
   "source": [
    "run.log_artifact(\"this\", foo)\n",
    "run.log_artifact(\"that\", bar)\n",
    "run.save()"
   ]
  },
  {
   "cell_type": "markdown",
   "id": "e8479ed1",
   "metadata": {},
   "source": [
    "<br><br><br><br><br><br>\n",
    "<br><br><br><br><br><br>\n",
    "<br><br><br><br><br><br>"
   ]
  },
  {
   "cell_type": "markdown",
   "id": "8051c87f",
   "metadata": {},
   "source": [
    "$$\n",
    "\\Huge{\\text{Act III: Convergence Test}}\n",
    "$$\n",
    "<br>\n",
    "$$\n",
    "\\color{gray}{\n",
    "    \\bigg\\vert\\large{\\text{ . . . the demo gods be with us today.}}\\\\\n",
    "    \\text{— Manasi Vartak (https://youtu.be/r1_KkKIJGnU?t=898)}\n",
    "}\n",
    "$$\n",
    "<br><br><br><br><br><br>\n",
    "<br><br><br><br><br><br>\n",
    "<br><br><br><br><br><br>"
   ]
  },
  {
   "cell_type": "markdown",
   "id": "d0e0b658",
   "metadata": {},
   "source": [
    "$$\n",
    "\\begin{align}\n",
    "    \\bigg\\vert&\\large{\\text{ Can't have scope creep}}\\\\\n",
    "    \\bigg\\vert&\\large{\\text{ if your work wasn't scoped to begin with.}}\\\\\n",
    "\\end{align}\\\\\n",
    "\\text{— 😬}\n",
    "$$\n",
    "<br><br><br><br><br><br>\n",
    "<br><br><br><br><br><br>\n",
    "<br><br><br><br><br><br>"
   ]
  },
  {
   "cell_type": "markdown",
   "id": "2d36374b",
   "metadata": {},
   "source": [
    "$$\n",
    "\\begin{align}\n",
    "    \\bigg\\vert&\\large{\\text{ If you could redo part of your life knowing what you know now,}}\\\\\n",
    "    \\bigg\\vert&\\large{\\text{ what would you change?}}\\\\\n",
    "\\end{align}\\\\\n",
    "\\text{— /r/AskReddit, like every other week}\n",
    "$$\n",
    "<br><br><br><br><br><br>\n",
    "<br><br><br><br><br><br>\n",
    "<br><br><br><br><br><br>"
   ]
  },
  {
   "cell_type": "markdown",
   "id": "082610c9",
   "metadata": {},
   "source": [
    "# Logger"
   ]
  },
  {
   "cell_type": "code",
   "execution_count": 4,
   "id": "f0a9b9ed",
   "metadata": {},
   "outputs": [],
   "source": [
    "import logging\n",
    "import sys\n",
    "\n",
    "logger = logging.getLogger(\"verta\")\n",
    "level = logging.INFO\n",
    "formatter = logging.Formatter(\"%(levelname)s - %(message)s\")\n",
    "\n",
    "handler = logging.StreamHandler(sys.stdout)\n",
    "handler.setLevel(level)\n",
    "handler.setFormatter(formatter)\n",
    "\n",
    "logger.setLevel(level)\n",
    "logger.addHandler(handler)"
   ]
  },
  {
   "cell_type": "markdown",
   "id": "32aad3dc",
   "metadata": {},
   "source": [
    "<br><br><br><br><br><br>\n",
    "<br><br><br><br><br><br>\n",
    "<br><br><br><br><br><br>"
   ]
  },
  {
   "cell_type": "markdown",
   "id": "fce17fe9",
   "metadata": {},
   "source": [
    "## How it started"
   ]
  },
  {
   "cell_type": "code",
   "execution_count": 5,
   "id": "d7c1b87f",
   "metadata": {},
   "outputs": [],
   "source": [
    "email = os.environ['VERTA_EMAIL']\n",
    "print(\"set email from environment\")\n",
    "print(\"[DEBUG] using email: {}\".format(email))"
   ]
  },
  {
   "cell_type": "markdown",
   "id": "1eae52fe",
   "metadata": {},
   "source": [
    "## How it's going"
   ]
  },
  {
   "cell_type": "code",
   "execution_count": 6,
   "id": "30d37ba0",
   "metadata": {},
   "outputs": [],
   "source": [
    "email = os.environ['VERTA_EMAIL']\n",
    "logger.info(\"set email from environment\")\n",
    "logger.debug(\"using email: %s\", email)"
   ]
  },
  {
   "cell_type": "markdown",
   "id": "69076b18",
   "metadata": {},
   "source": [
    "<br><br><br><br><br><br>\n",
    "<br><br><br><br><br><br>\n",
    "<br><br><br><br><br><br>"
   ]
  },
  {
   "cell_type": "markdown",
   "id": "0f29173d",
   "metadata": {},
   "source": [
    "# Local client"
   ]
  },
  {
   "cell_type": "code",
   "execution_count": 7,
   "id": "a8df513c",
   "metadata": {},
   "outputs": [],
   "source": [
    "from verta.local import Client\n",
    "\n",
    "client = Client()"
   ]
  },
  {
   "cell_type": "markdown",
   "id": "93027f3d",
   "metadata": {},
   "source": [
    "<br><br><br><br><br><br>\n",
    "<br><br><br><br><br><br>\n",
    "<br><br><br><br><br><br>"
   ]
  },
  {
   "cell_type": "markdown",
   "id": "9a6cc74b",
   "metadata": {},
   "source": [
    "# \"New\" entities"
   ]
  },
  {
   "cell_type": "code",
   "execution_count": 8,
   "id": "21c2dfd8",
   "metadata": {},
   "outputs": [],
   "source": [
    "reg_model = client.new_registered_model()\n",
    "reg_model.add_label(\"demo\")\n",
    "reg_model.add_attribute(\"maintainer\", \"Liu\")\n",
    "\n",
    "reg_model"
   ]
  },
  {
   "cell_type": "code",
   "execution_count": 9,
   "id": "b10619c5",
   "metadata": {},
   "outputs": [],
   "source": [
    "reg_model.save()\n",
    "\n",
    "reg_model"
   ]
  },
  {
   "cell_type": "code",
   "execution_count": 10,
   "id": "3e285d30",
   "metadata": {},
   "outputs": [],
   "source": [
    "model_ver = reg_model.new_version(version=\"v1\")\n",
    "with open(\"hackweek.ipynb\", \"rb\") as f:\n",
    "    model_ver.add_artifact(\"source_notebook\", f)"
   ]
  },
  {
   "cell_type": "code",
   "execution_count": 11,
   "id": "f23e83dd",
   "metadata": {},
   "outputs": [],
   "source": [
    "model_ver"
   ]
  },
  {
   "cell_type": "code",
   "execution_count": 12,
   "id": "6619016f",
   "metadata": {},
   "outputs": [],
   "source": [
    "model_ver.save()\n",
    "\n",
    "model_ver"
   ]
  },
  {
   "cell_type": "markdown",
   "id": "4ad3ff7d",
   "metadata": {},
   "source": [
    "<br><br><br><br><br><br>\n",
    "<br><br><br><br><br><br>\n",
    "<br><br><br><br><br><br>"
   ]
  },
  {
   "cell_type": "markdown",
   "id": "633c449e",
   "metadata": {},
   "source": [
    "# \"Open\" entities"
   ]
  },
  {
   "cell_type": "code",
   "execution_count": 13,
   "id": "95a13a6b",
   "metadata": {
    "scrolled": true
   },
   "outputs": [],
   "source": [
    "reg_model = client.open_registered_model(name=\"secret-azure-amphibian\")\n",
    "reg_model.del_label(\"demo\")\n",
    "reg_model.add_label(\"production\")\n",
    "reg_model.save()\n",
    "\n",
    "reg_model"
   ]
  },
  {
   "cell_type": "markdown",
   "id": "26d0d6b2",
   "metadata": {},
   "source": [
    "<br><br><br><br><br><br>\n",
    "<br><br><br><br><br><br>\n",
    "<br><br><br><br><br><br>"
   ]
  },
  {
   "cell_type": "markdown",
   "id": "14c0fccf",
   "metadata": {},
   "source": [
    "|![](./hackweek/new-open-1.png) |![](./hackweek/new-open-2.png) |![](./hackweek/new-open-3.png)|\n",
    "|-|-|-|"
   ]
  },
  {
   "cell_type": "markdown",
   "id": "54a3d475",
   "metadata": {},
   "source": [
    "<br><br><br><br><br><br>\n",
    "<br><br><br><br><br><br>\n",
    "<br><br><br><br><br><br>"
   ]
  },
  {
   "cell_type": "markdown",
   "id": "6020bee7",
   "metadata": {},
   "source": [
    "# Context management"
   ]
  },
  {
   "cell_type": "code",
   "execution_count": 14,
   "id": "49e60cbc",
   "metadata": {},
   "outputs": [],
   "source": [
    "with client.new_registered_model() as reg_model:\n",
    "    reg_model.add_label(\"demo\")\n",
    "\n",
    "reg_model"
   ]
  },
  {
   "cell_type": "markdown",
   "id": "f0de8c13",
   "metadata": {},
   "source": [
    "<br><br><br><br><br><br>\n",
    "<br><br><br><br><br><br>\n",
    "<br><br><br><br><br><br>"
   ]
  },
  {
   "cell_type": "markdown",
   "id": "49ef8808",
   "metadata": {},
   "source": [
    "### "
   ]
  },
  {
   "cell_type": "markdown",
   "id": "db63bd26",
   "metadata": {},
   "source": [
    "# Exceptional behavior"
   ]
  },
  {
   "cell_type": "code",
   "execution_count": 15,
   "id": "426db0c9",
   "metadata": {},
   "outputs": [],
   "source": [
    "import numpy as np"
   ]
  },
  {
   "cell_type": "code",
   "execution_count": 16,
   "id": "0ae50253",
   "metadata": {},
   "outputs": [],
   "source": [
    "with reg_model.new_version(version=\"v1\") as model_ver:\n",
    "    model_ver.add_attributes({\n",
    "        \"data_format\": \"array\",\n",
    "        \"framework\": \"NumPy\",\n",
    "    })\n",
    "    model_ver.add_artifact(\"data\", np.random.random(size=(36, 36)))\n",
    "    \n",
    "model_ver"
   ]
  },
  {
   "cell_type": "code",
   "execution_count": 17,
   "id": "0070331b",
   "metadata": {},
   "outputs": [],
   "source": [
    "with reg_model.new_version(version=\"v2\") as model_ver:\n",
    "    model_ver.add_attributes({\n",
    "        \"data_format\": \"array\",\n",
    "        \"framework\": \"NumPy\",\n",
    "    })\n",
    "    with open(\"this-file-does-not-exist.pkl\", \"rb\") as f:\n",
    "        model_ver.add_artifact(\"data\", f)\n",
    "    \n",
    "model_ver"
   ]
  },
  {
   "cell_type": "markdown",
   "id": "ed895fef",
   "metadata": {},
   "source": [
    "<br><br><br><br><br><br>\n",
    "<br><br><br><br><br><br>\n",
    "<br><br><br><br><br><br>"
   ]
  },
  {
   "cell_type": "markdown",
   "id": "d929a5e9",
   "metadata": {},
   "source": [
    "$$\n",
    "\\Large{\\text{I deNOUNce this excessive use of verbs.}}\n",
    "$$\n",
    "<br><br><br><br><br><br>\n",
    "<br><br><br><br><br><br>\n",
    "<br><br><br><br><br><br>"
   ]
  },
  {
   "cell_type": "markdown",
   "id": "3a0fbee0",
   "metadata": {},
   "source": [
    "$$\n",
    "\\begin{array}{cl}\n",
    "    \\huge{\\text{O}}&\\!\\!\\!\\!\\!\\Large{\\text{bject-}}\\\\\n",
    "    \\huge{\\text{O}}&\\!\\!\\!\\!\\!\\Large{\\text{riented}}\\\\\n",
    "    \\huge{\\text{P}}&\\!\\!\\!\\!\\!\\Large{\\text{ublic}}\\\\\n",
    "    \\huge{\\text{S}}&\\!\\!\\!\\!\\!\\Large{\\text{ubmodule}}\\\\\n",
    "    \\huge{\\text{I}}&\\!\\!\\!\\!\\!\\Large{\\text{mportable}}\\\\\n",
    "    \\huge{\\text{E}}&\\!\\!\\!\\!\\!\\Large{\\text{ntity}}\\\\\n",
    "    \\huge{\\text{S}}&\\!\\!\\!\\!\\!\\Large{\\text{ystem}}\n",
    "\\end{array}\\\\\n",
    "$$\n",
    "<br>\n",
    "$$\n",
    "\\small{\\text{remember, we've got that whole \"making mistakes\" theme going}}\n",
    "$$\n",
    "<br><br><br><br><br><br>\n",
    "<br><br><br><br><br><br>\n",
    "<br><br><br><br><br><br>"
   ]
  },
  {
   "cell_type": "markdown",
   "id": "c3551f22",
   "metadata": {},
   "source": [
    "# No more client"
   ]
  },
  {
   "cell_type": "code",
   "execution_count": 18,
   "id": "7962b2bd",
   "metadata": {},
   "outputs": [],
   "source": [
    "from verta.local.registry import RegisteredModel\n",
    "\n",
    "reg_model = RegisteredModel()\n",
    "reg_model.add_label(\"demo\")\n",
    "reg_model.save()\n",
    "\n",
    "reg_model"
   ]
  },
  {
   "cell_type": "code",
   "execution_count": 19,
   "id": "ac6446fe",
   "metadata": {},
   "outputs": [],
   "source": [
    "with RegisteredModel() as reg_model:\n",
    "    reg_model.add_label(\"demo\")\n",
    "\n",
    "reg_model"
   ]
  },
  {
   "cell_type": "markdown",
   "id": "5988d0fc",
   "metadata": {},
   "source": [
    "<br><br><br><br><br><br>\n",
    "<br><br><br><br><br><br>\n",
    "<br><br><br><br><br><br>"
   ]
  },
  {
   "cell_type": "markdown",
   "id": "08432696",
   "metadata": {},
   "source": [
    "# No more boilerplate"
   ]
  },
  {
   "cell_type": "code",
   "execution_count": 20,
   "id": "68d93116",
   "metadata": {},
   "outputs": [],
   "source": [
    "from verta.local.registry import ModelVersion\n",
    "\n",
    "with ModelVersion(registered_model_name=, version=\"v1\") as model_ver:\n",
    "    model_ver.add_artifact(\"config\", {\"fruit\": \"banana\"})\n",
    "\n",
    "model_ver"
   ]
  },
  {
   "cell_type": "markdown",
   "id": "0f92a62d",
   "metadata": {},
   "source": [
    "<br><br><br><br><br><br>\n",
    "<br><br><br><br><br><br>\n",
    "<br><br><br><br><br><br>"
   ]
  },
  {
   "cell_type": "markdown",
   "id": "9fffa10b",
   "metadata": {},
   "source": [
    "$$\n",
    "\\Huge{\\text{Epilogue: Python off (the) Rails}}\n",
    "$$\n",
    "<br>\n",
    "$$\n",
    "\\color{gray}{\n",
    "    \\bigg\\vert\\large{\\text{ Dude, how long did you spend preparing this.}}\\\\\n",
    "    \\text{— Anonymous (Verta demo night 2019)}\n",
    "}\n",
    "$$\n",
    "<br><br><br><br><br><br>\n",
    "<br><br><br><br><br><br>\n",
    "<br><br><br><br><br><br>"
   ]
  },
  {
   "cell_type": "markdown",
   "id": "687d8bb9",
   "metadata": {},
   "source": [
    "# Interfaces with usable interfaces\n",
    "<br><br><br><br><br><br>\n",
    "<br><br><br><br><br><br>\n",
    "<br><br><br><br><br><br>"
   ]
  },
  {
   "cell_type": "markdown",
   "id": "956eb36d",
   "metadata": {},
   "source": [
    "# Dependency injection\n",
    "<br><br><br><br><br><br>\n",
    "<br><br><br><br><br><br>\n",
    "<br><br><br><br><br><br>"
   ]
  },
  {
   "cell_type": "markdown",
   "id": "9ddea015",
   "metadata": {},
   "source": [
    "# Helper functions that are helpful\n",
    "<br><br><br><br><br><br>\n",
    "<br><br><br><br><br><br>\n",
    "<br><br><br><br><br><br>"
   ]
  },
  {
   "cell_type": "markdown",
   "id": "b70de45a",
   "metadata": {},
   "source": [
    "# Decorators that aren't just decorative\n",
    "<br><br><br><br><br><br>\n",
    "<br><br><br><br><br><br>\n",
    "<br><br><br><br><br><br>"
   ]
  },
  {
   "cell_type": "markdown",
   "id": "8a1998a7",
   "metadata": {},
   "source": [
    "# Mixins\n",
    "<br><br><br><br><br><br>\n",
    "<br><br><br><br><br><br>\n",
    "<br><br><br><br><br><br>"
   ]
  },
  {
   "cell_type": "markdown",
   "id": "47421e0c",
   "metadata": {},
   "source": [
    "$$\n",
    "\\Large{\\text{Do you ever feel beTRAIT by your type system?}}\\\\\n",
    "\\text{...no? Well uhh...in Python, trust can't be broken because you can't trust anyone.}\\\\\n",
    "\\text{\"What methods do I expose? idk you figure it out\"}\n",
    "$$\n",
    "<br><br><br><br><br><br>\n",
    "<br><br><br><br><br><br>\n",
    "<br><br><br><br><br><br>"
   ]
  },
  {
   "cell_type": "markdown",
   "id": "5f1dc3a7",
   "metadata": {},
   "source": [
    "## methods you get for free contingent on overriding others?\n",
    "![](./hackweek/python-mixin.png)\n",
    "## or inheritable classes with abstract and concrete methods?\n",
    "![](./hackweek/sklearn-mixin.png)\n",
    "<br><br><br><br><br><br>\n",
    "<br><br><br><br><br><br>\n",
    "<br><br><br><br><br><br>"
   ]
  },
  {
   "cell_type": "markdown",
   "id": "b6ea21ab",
   "metadata": {},
   "source": [
    "$$\n",
    "\\Large{\\text{I might be MIXIN' this up with something else.}}\n",
    "$$\n",
    "<br><br><br><br><br><br>\n",
    "<br><br><br><br><br><br>\n",
    "<br><br><br><br><br><br>"
   ]
  },
  {
   "cell_type": "markdown",
   "id": "567b590b",
   "metadata": {},
   "source": [
    "# `demo.__exit__()`\n",
    "<br><br><br><br><br><br>\n",
    "<br><br><br><br><br><br>\n",
    "<br><br><br><br><br><br>"
   ]
  },
  {
   "cell_type": "markdown",
   "id": "2319bcce",
   "metadata": {},
   "source": [
    "---"
   ]
  }
 ],
 "metadata": {
  "kernelspec": {
   "display_name": "Python 3 (ipykernel)",
   "language": "python",
   "name": "python3"
  },
  "language_info": {
   "codemirror_mode": {
    "name": "ipython",
    "version": 3
   },
   "file_extension": ".py",
   "mimetype": "text/x-python",
   "name": "python",
   "nbconvert_exporter": "python",
   "pygments_lexer": "ipython3",
   "version": "3.7.10"
  }
 },
 "nbformat": 4,
 "nbformat_minor": 5
}
